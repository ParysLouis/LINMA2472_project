{
 "cells": [
  {
   "cell_type": "code",
   "execution_count": 1,
   "id": "c9e3a924",
   "metadata": {},
   "outputs": [],
   "source": [
    "import sklearn.metrics\n",
    "# note Grakel does not seem to support Python >=3.10, Python 3.9 works fine\n",
    "# you are free to remove imports that are not useful for you\n",
    "from grakel.datasets import fetch_dataset\n",
    "from grakel.kernels import WeisfeilerLehman, VertexHistogram\n",
    "from sklearn.model_selection import train_test_split,cross_val_score\n",
    "from sklearn.svm import SVC\n",
    "from sklearn.metrics import accuracy_score\n",
    "from sklearn.decomposition import KernelPCA # to check your own implementation\n",
    "from sklearn.manifold import TSNE\n",
    "import numpy as np\n",
    "import scipy\n",
    "import matplotlib.pyplot as plt\n",
    "import math"
   ]
  },
  {
   "cell_type": "code",
   "execution_count": 2,
   "metadata": {
    "collapsed": false
   },
   "outputs": [],
   "source": [
    "# Some datasets, more datasets here https://ls11-www.cs.tu-dortmund.de/staff/morris/graphkerneldatasets\n",
    "\n",
    "\"\"\"\n",
    "    The MUTAG dataset consists of 188 chemical compounds divided into two \n",
    "    classes according to their mutagenic effect on a bacterium. \n",
    "\n",
    "    The chemical data was obtained form http://cdb.ics.uci.edu and converted \n",
    "    to graphs, where vertices represent atoms and edges represent chemical \n",
    "    bonds. Explicit hydrogen atoms have been removed and vertices are labeled\n",
    "    by atom type and edges by bond type (single, double, triple or aromatic).\n",
    "    Chemical data was processed using the Chemistry Development Kit (v1.4).\n",
    "\"\"\"\n",
    "\n",
    "\"\"\"\n",
    "    ENZYMES is a dataset of protein tertiary structures obtained from (Borgwardt et al., 2005) \n",
    "    consisting of 600 enzymes from the BRENDA enzyme database (Schomburg et al., 2004). \n",
    "    In this case the task is to correctly assign each enzyme to one of the 6 EC top-level \n",
    "    classes. \n",
    "\"\"\"\n",
    "\n",
    "\"\"\"\n",
    "    NCI1 and NCI109 represent two balanced subsets of datasets of chemical compounds screened \n",
    "    for activity against non-small cell lung cancer and ovarian cancer cell lines respectively\n",
    "    (Wale and Karypis (2006) and http://pubchem.ncbi.nlm.nih.gov).\n",
    "\"\"\"\n",
    "\n",
    "#fetch the data for the three datasets\n",
    "datasetMutag = fetch_dataset(\"MUTAG\", verbose=False) # just replace by the name of the datasets you want \"ENZYMES\", \"NCI1\"\n",
    "GMutag = datasetMutag.data\n",
    "yMutag = datasetMutag.target\n",
    "\n",
    "datasetEnzimes = fetch_dataset(\"ENZYMES\", verbose=False) # just replace by the name of the datasets you want \"ENZYMES\", \"NCI1\"\n",
    "GEnzimes = datasetEnzimes.data\n",
    "yEnzimes = datasetEnzimes.target\n",
    "\n",
    "datasetNCI1 = fetch_dataset(\"NCI1\", verbose=False) # just replace by the name of the datasets you want \"ENZYMES\", \"NCI1\"\n",
    "GNCI1 = datasetNCI1.data\n",
    "yNCI1 = datasetNCI1.target"
   ]
  },
  {
   "cell_type": "markdown",
   "metadata": {
    "collapsed": false
   },
   "source": [
    "## 4.1 Computing the kernels"
   ]
  },
  {
   "cell_type": "code",
   "execution_count": 3,
   "metadata": {
    "collapsed": false
   },
   "outputs": [],
   "source": [
    "H = 10\n",
    "def pairwiseKernelComputation(graph, H):\n",
    "\n",
    "    wl = WeisfeilerLehman(n_iter=H, base_graph_kernel=VertexHistogram,normalize=False)\n",
    "    #pairwiseComputation\n",
    "    wlTrain = wl.fit_transform(graph)\n",
    "\n",
    "    return wlTrain\n",
    "\n"
   ]
  },
  {
   "cell_type": "code",
   "execution_count": 4,
   "metadata": {
    "collapsed": false
   },
   "outputs": [],
   "source": [
    "#4.1.2 et 4.1.4 MUTAG\n",
    "pairwiseMutag = pairwiseKernelComputation(GMutag, H)\n",
    "WlrankMutag = np.linalg.matrix_rank(pairwiseMutag)\n",
    "\n",
    "#4.1.2 et 4.1.4 ENZIMES\n",
    "pairwiseEnzimes = pairwiseKernelComputation(GEnzimes, H)\n",
    "WlrankEnzimes = np.linalg.matrix_rank(pairwiseEnzimes)\n",
    "\n",
    "#4.1.2 et 4.1.4 NCI1\n",
    "pairwiseNCI1 = pairwiseKernelComputation(GNCI1, H)\n",
    "WlrankNCI1 = np.linalg.matrix_rank(pairwiseNCI1)"
   ]
  },
  {
   "cell_type": "markdown",
   "metadata": {
    "collapsed": false
   },
   "source": [
    "## 4.2 Vizualisation"
   ]
  },
  {
   "cell_type": "markdown",
   "metadata": {
    "collapsed": false
   },
   "source": [
    "### 4.2.1 Kernel centralisation"
   ]
  },
  {
   "cell_type": "code",
   "execution_count": 5,
   "metadata": {
    "collapsed": false
   },
   "outputs": [],
   "source": [
    "#K = K − 1N K − K1N + 1N K1N\n",
    "def kernelCentralisation(kernelMatrix):\n",
    "    inverseMatrix = np.full((len(kernelMatrix[0]), len(kernelMatrix[0])), 1/len(kernelMatrix[0]))\n",
    "    centredKernelMatrix = (kernelMatrix - inverseMatrix) @ (kernelMatrix - kernelMatrix@inverseMatrix) + (inverseMatrix@kernelMatrix@inverseMatrix)\n",
    "    return centredKernelMatrix\n",
    "centredKernelMutag = kernelCentralisation(pairwiseMutag)"
   ]
  },
  {
   "cell_type": "markdown",
   "metadata": {
    "collapsed": false
   },
   "source": [
    "### 4.2.2 KernelPCA implementation"
   ]
  },
  {
   "cell_type": "code",
   "execution_count": 6,
   "metadata": {
    "collapsed": false
   },
   "outputs": [],
   "source": [
    "vK = scipy.linalg.eig(centredKernelMutag) #compute eigenvalues,eigenvectors\n"
   ]
  },
  {
   "cell_type": "markdown",
   "metadata": {
    "collapsed": false
   },
   "source": [
    "### 4.2.3 KernelPCA visualization"
   ]
  },
  {
   "cell_type": "markdown",
   "metadata": {
    "collapsed": false
   },
   "source": [
    "### 4.2.4 Distance"
   ]
  },
  {
   "cell_type": "markdown",
   "metadata": {
    "collapsed": false
   },
   "source": [
    "### 4.2.5 tSNE"
   ]
  },
  {
   "cell_type": "markdown",
   "metadata": {
    "collapsed": false
   },
   "source": [
    "### 4.2.6 Comparison"
   ]
  },
  {
   "cell_type": "markdown",
   "metadata": {
    "collapsed": false
   },
   "source": [
    "## 4.3 Classification"
   ]
  },
  {
   "cell_type": "markdown",
   "metadata": {
    "collapsed": false
   },
   "source": [
    "### 4.3.1 A simple baseline"
   ]
  },
  {
   "cell_type": "markdown",
   "metadata": {
    "collapsed": false
   },
   "source": [
    "### 4.3.2 Support Vector Machine (SVM)"
   ]
  },
  {
   "cell_type": "code",
   "execution_count": 7,
   "metadata": {
    "collapsed": false
   },
   "outputs": [],
   "source": [
    "C = 1e2\n",
    "H = 3\n",
    "def assessAccuracy(graph, y, H, C):\n",
    "\n",
    "    wl = WeisfeilerLehman(n_iter=H, base_graph_kernel=VertexHistogram,normalize=False)\n",
    "    X_train, X_test, y_train, y_test = train_test_split(graph, y, test_size=0.20, random_state=1, shuffle=True)\n",
    "\n",
    "    wlTrain = wl.fit_transform(X_train)\n",
    "    wlTest = wl.transform(X_test)\n",
    "    clf = SVC(kernel=\"precomputed\", C=C)\n",
    "    clf.fit(wlTrain, y_train)\n",
    "    ypred = clf.predict(wlTest)\n",
    "    acc = accuracy_score(y_test, ypred)\n",
    "    print(\"Accuracy:\", str(round(acc*100, 2)) + \"%\")\n",
    "\n",
    "    return acc\n"
   ]
  },
  {
   "cell_type": "code",
   "execution_count": 8,
   "metadata": {
    "collapsed": false
   },
   "outputs": [
    {
     "name": "stdout",
     "output_type": "stream",
     "text": [
      "Accuracy: 92.11%\n",
      "Accuracy: 55.0%\n",
      "Accuracy: 82.0%\n"
     ]
    }
   ],
   "source": [
    "accMutag = assessAccuracy(GMutag, yMutag, H, C)\n",
    "accEnzimes = assessAccuracy(GEnzimes, yEnzimes, H, C)\n",
    "accNCI1 = assessAccuracy(GNCI1, yNCI1, H, C)"
   ]
  },
  {
   "cell_type": "markdown",
   "metadata": {
    "collapsed": false
   },
   "source": [
    "### 4.3.3 Hyperparameters selection"
   ]
  },
  {
   "cell_type": "code",
   "execution_count": 9,
   "metadata": {
    "collapsed": false
   },
   "outputs": [],
   "source": [
    "C = [1e-5, 1e-4, 1e-3, 1e-2, 1e-1, 1e0, 1e1, 1e2, 1e3, 1e4]\n",
    "H = [i for i in range(1, 11, 1)]\n",
    "def bestParams(graph, y, H, C):\n",
    "    bestAcc = 0\n",
    "    bestP = (0, 0)\n",
    "    for i in range(len(H)):\n",
    "        for j in range(len(C)):\n",
    "            wl = WeisfeilerLehman(n_iter=H[i], base_graph_kernel=VertexHistogram,normalize=False)\n",
    "            wlTrain = wl.fit_transform(graph)\n",
    "\n",
    "            acc = cross_val_score(SVC(kernel=\"precomputed\", C=C[j]), wlTrain, y, cv=10)\n",
    "            #print(np.mean(acc))\n",
    "            #print(bestAcc)\n",
    "            if np.mean(acc) > bestAcc:\n",
    "                bestAcc = np.mean(acc)\n",
    "                bestP = (i, j)\n",
    "\n",
    "    return bestAcc, bestP"
   ]
  },
  {
   "cell_type": "code",
   "execution_count": null,
   "metadata": {
    "collapsed": false,
    "pycharm": {
     "is_executing": true
    }
   },
   "outputs": [
    {
     "name": "stdout",
     "output_type": "stream",
     "text": [
      "Best param Mutag: (0.8932748538011696, (0, 5))\n"
     ]
    }
   ],
   "source": [
    "\n",
    "bestParamMutag = bestParams(GMutag, yMutag, H, C)\n",
    "print(f\"Best param Mutag: {bestParamMutag}\")\n",
    "bestParamEnzimes = bestParams(GEnzimes, yEnzimes, H, C)\n",
    "print(f\"Best param Enzimes: {bestParamEnzimes}\")\n",
    "bestParamNCI1 = bestParams(GNCI1, yNCI1, H, C)\n",
    "print(f\"Best param NCI1: {bestParamNCI1}\")\n"
   ]
  },
  {
   "cell_type": "markdown",
   "metadata": {
    "collapsed": false
   },
   "source": [
    "### 4.3.4 Oberservations"
   ]
  },
  {
   "cell_type": "code",
   "execution_count": null,
   "metadata": {
    "collapsed": false,
    "pycharm": {
     "is_executing": true
    }
   },
   "outputs": [],
   "source": []
  },
  {
   "cell_type": "code",
   "execution_count": null,
   "metadata": {
    "collapsed": false,
    "pycharm": {
     "is_executing": true
    }
   },
   "outputs": [],
   "source": []
  },
  {
   "cell_type": "code",
   "execution_count": null,
   "metadata": {
    "collapsed": false,
    "pycharm": {
     "is_executing": true
    }
   },
   "outputs": [],
   "source": []
  },
  {
   "cell_type": "code",
   "execution_count": null,
   "metadata": {
    "collapsed": false,
    "pycharm": {
     "is_executing": true
    }
   },
   "outputs": [],
   "source": []
  }
 ],
 "metadata": {
  "kernelspec": {
   "display_name": "Python 3 (ipykernel)",
   "language": "python",
   "name": "python3"
  },
  "language_info": {
   "codemirror_mode": {
    "name": "ipython",
    "version": 3
   },
   "file_extension": ".py",
   "mimetype": "text/x-python",
   "name": "python",
   "nbconvert_exporter": "python",
   "pygments_lexer": "ipython3",
   "version": "3.9.13"
  }
 },
 "nbformat": 4,
 "nbformat_minor": 5
}
