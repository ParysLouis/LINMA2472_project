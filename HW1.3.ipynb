{
 "cells": [
  {
   "cell_type": "code",
   "execution_count": 1,
   "id": "a11a7d5c",
   "metadata": {
    "collapsed": false
   },
   "outputs": [],
   "source": [
    "import pandas as pd\n",
    "import networkx as nx\n",
    "import numpy as np\n",
    "import matplotlib.pyplot as plt\n",
    "from matplotlib.font_manager import weight_dict\n",
    "from cProfile import label\n"
   ]
  },
  {
   "cell_type": "code",
   "execution_count": 2,
   "id": "42e1d427",
   "metadata": {
    "collapsed": false
   },
   "outputs": [],
   "source": [
    "#importing text file\n",
    "text = []\n",
    "with open('hp7.txt', \"r\", encoding=\"utf8\" ) as input_f:  #if error: erase encoding=\"utf8\"\n",
    "    text = input_f.read()\n"
   ]
  },
  {
   "cell_type": "code",
   "execution_count": 3,
   "id": "7c33290b",
   "metadata": {
    "collapsed": false
   },
   "outputs": [
    {
     "name": "stdout",
     "output_type": "stream",
     "text": [
      "   id                    name  \\\n",
      "0   0  Regulus Arcturus Black   \n",
      "1   1            Sirius Black   \n",
      "2   2          Lavender Brown   \n",
      "3   3               Cho Chang   \n",
      "4   4      Vincent Crabbe Sr.   \n",
      "\n",
      "                                                 bio  \n",
      "0  Brother of Sirius. Used to be a Death Eater bu...  \n",
      "1  Best friend of James Potter and godfather of H...  \n",
      "2  Killed by a werewolf. She was a gryffindor stu...  \n",
      "3  Ravenclaw student who dated Cedric Diggory and...  \n",
      "4  Father of Crabbe and death-eater who escaped A...  \n",
      "(65, 3)\n"
     ]
    }
   ],
   "source": [
    "#importing csv with all characters name\n",
    "characters = pd.read_csv('characters_list.csv') #path to csv file of characters list\n",
    "print(characters.head())\n",
    "print(characters.shape)"
   ]
  },
  {
   "cell_type": "code",
   "execution_count": 4,
   "id": "f433c9e8",
   "metadata": {},
   "outputs": [
    {
     "data": {
      "text/plain": [
       "'I \\n\\n\\n\\n* \\n\\nTHE DARK LORD ASCENDING \\n\\nThe two men appeared out of nowhere, a few yards \\napart in the narrow, moonlit lane. For a second they \\nstood quite still, wands directed at each other’s \\nchests; then, recognizing each other, they stowed \\ntheir wands beneath their cloaks and started walking \\nbriskly in the same direction. \\n\\n“News?” asked the taller of the two. \\n\\n“The best,” replied Severus Snape. \\n\\nThe lane was bordered on the left by wild, low- \\ngrowing brambles, on the right by a high, neatly \\nmanicured hedge. The men’s long cloaks flapped \\naround their ankles as they marched. \\n\\n“Thought I might be late,” said Yaxley, his blunt \\nfeatures sliding in and out of sight as the branches of \\noverhanging trees broke the moonlight. “It was a little \\ntrickier than I expected. But I hope he will be \\nsatisfied. You sound confident that your reception will \\nbe good?” \\n\\nPage | 2 Harry Potter and the Deathly Hallows - J.K. Rowling \\n\\n\\n\\n\\nSnape nodded, but did not elaborate. They turned \\nright, int'"
      ]
     },
     "execution_count": 4,
     "metadata": {},
     "output_type": "execute_result"
    }
   ],
   "source": [
    "text[:1000]"
   ]
  },
  {
   "cell_type": "code",
   "execution_count": 5,
   "id": "e3c64d60",
   "metadata": {},
   "outputs": [],
   "source": [
    "page = text.split(\"Harry Potter and the Deathly Hallows - J.K. Rowling\")"
   ]
  },
  {
   "cell_type": "code",
   "execution_count": 6,
   "id": "10078662",
   "metadata": {},
   "outputs": [
    {
     "data": {
      "text/plain": [
       "'I \\n\\n\\n\\n* \\n\\nTHE DARK LORD ASCENDING \\n\\nThe two men appeared out of nowhere, a few yards \\napart in the narrow, moonlit lane. For a second they \\nstood quite still, wands directed at each other’s \\nchests; then, recognizing each other, they stowed \\ntheir wands beneath their cloaks and started walking \\nbriskly in the same direction. \\n\\n“News?” asked the taller of the two. \\n\\n“The best,” replied Severus Snape. \\n\\nThe lane was bordered on the left by wild, low- \\ngrowing brambles, on the right by a high, neatly \\nmanicured hedge. The men’s long cloaks flapped \\naround their ankles as they marched. \\n\\n“Thought I might be late,” said Yaxley, his blunt \\nfeatures sliding in and out of sight as the branches of \\noverhanging trees broke the moonlight. “It was a little \\ntrickier than I expected. But I hope he will be \\nsatisfied. You sound confident that your reception will \\nbe good?” \\n\\nPage | 2 '"
      ]
     },
     "execution_count": 6,
     "metadata": {},
     "output_type": "execute_result"
    }
   ],
   "source": [
    "page[0]"
   ]
  },
  {
   "cell_type": "code",
   "execution_count": 7,
   "id": "690b2d9c",
   "metadata": {
    "collapsed": false
   },
   "outputs": [
    {
     "name": "stdout",
     "output_type": "stream",
     "text": [
      "Severus Snape in page\n",
      "Severus Snape in page\n"
     ]
    }
   ],
   "source": [
    "#testing method for page 0\n",
    "for personnage in (characters['name']):\n",
    "    #print(personnage.split(' '))\n",
    "    for n in personnage.split():\n",
    "        if n in page[0]:\n",
    "            print(f'{personnage} in page')"
   ]
  },
  {
   "cell_type": "code",
   "execution_count": 8,
   "id": "cacc75ab",
   "metadata": {
    "collapsed": false
   },
   "outputs": [],
   "source": [
    "#dataframe of occurences of personnage by page\n",
    "occurence_page = pd.DataFrame(0,columns=[characters['name']], index=(i for i in range(len(page))))"
   ]
  },
  {
   "cell_type": "code",
   "execution_count": 9,
   "id": "ebcea48d",
   "metadata": {
    "collapsed": false
   },
   "outputs": [],
   "source": [
    "#add 1 if a specific personnage is in a specific page\n",
    "for i in range(len(page)):\n",
    "    for personnage in (characters['name']):\n",
    "    #print(personnage.split(' '))\n",
    "        for n in personnage.split():\n",
    "            if n in page[i]:\n",
    "                occurence_page.loc[[i], [personnage]] += 1\n",
    "                break"
   ]
  },
  {
   "cell_type": "code",
   "execution_count": 10,
   "id": "568e2277",
   "metadata": {
    "collapsed": false
   },
   "outputs": [],
   "source": [
    "#create the confusion matrix by dot product\n",
    "occurence = occurence_page.T.dot(occurence_page)\n",
    "#fill diagonal with 0\n",
    "np.fill_diagonal(occurence.values, 0)"
   ]
  },
  {
   "cell_type": "code",
   "execution_count": 11,
   "id": "cd56ed94",
   "metadata": {
    "collapsed": false
   },
   "outputs": [
    {
     "data": {
      "text/html": [
       "<div>\n",
       "<style scoped>\n",
       "    .dataframe tbody tr th:only-of-type {\n",
       "        vertical-align: middle;\n",
       "    }\n",
       "\n",
       "    .dataframe tbody tr th {\n",
       "        vertical-align: top;\n",
       "    }\n",
       "\n",
       "    .dataframe thead tr th {\n",
       "        text-align: left;\n",
       "    }\n",
       "\n",
       "    .dataframe thead tr:last-of-type th {\n",
       "        text-align: right;\n",
       "    }\n",
       "</style>\n",
       "<table border=\"1\" class=\"dataframe\">\n",
       "  <thead>\n",
       "    <tr>\n",
       "      <th>name</th>\n",
       "      <th>Regulus Arcturus Black</th>\n",
       "      <th>Sirius Black</th>\n",
       "      <th>Lavender Brown</th>\n",
       "      <th>Cho Chang</th>\n",
       "      <th>Vincent Crabbe Sr.</th>\n",
       "      <th>Vincent Crabbe</th>\n",
       "      <th>Bartemius \"Barty\" Crouch Sr.</th>\n",
       "      <th>Bartemius \"Barty\" Crouch Jr.</th>\n",
       "      <th>Fleur Delacour</th>\n",
       "      <th>Cedric Diggory</th>\n",
       "      <th>...</th>\n",
       "      <th>Ginny Weasley</th>\n",
       "      <th>Molly Weasley</th>\n",
       "      <th>Percy Weasley</th>\n",
       "      <th>Ron Weasley</th>\n",
       "      <th>Dobby</th>\n",
       "      <th>Fluffy</th>\n",
       "      <th>Hedwig</th>\n",
       "      <th>Moaning Myrtle</th>\n",
       "      <th>Aragog</th>\n",
       "      <th>Grawp</th>\n",
       "    </tr>\n",
       "    <tr>\n",
       "      <th>name</th>\n",
       "      <th></th>\n",
       "      <th></th>\n",
       "      <th></th>\n",
       "      <th></th>\n",
       "      <th></th>\n",
       "      <th></th>\n",
       "      <th></th>\n",
       "      <th></th>\n",
       "      <th></th>\n",
       "      <th></th>\n",
       "      <th></th>\n",
       "      <th></th>\n",
       "      <th></th>\n",
       "      <th></th>\n",
       "      <th></th>\n",
       "      <th></th>\n",
       "      <th></th>\n",
       "      <th></th>\n",
       "      <th></th>\n",
       "      <th></th>\n",
       "      <th></th>\n",
       "    </tr>\n",
       "  </thead>\n",
       "  <tbody>\n",
       "    <tr>\n",
       "      <th>Regulus Arcturus Black</th>\n",
       "      <td>0</td>\n",
       "      <td>22</td>\n",
       "      <td>0</td>\n",
       "      <td>1</td>\n",
       "      <td>0</td>\n",
       "      <td>0</td>\n",
       "      <td>0</td>\n",
       "      <td>0</td>\n",
       "      <td>0</td>\n",
       "      <td>0</td>\n",
       "      <td>...</td>\n",
       "      <td>6</td>\n",
       "      <td>3</td>\n",
       "      <td>4</td>\n",
       "      <td>21</td>\n",
       "      <td>0</td>\n",
       "      <td>0</td>\n",
       "      <td>0</td>\n",
       "      <td>0</td>\n",
       "      <td>0</td>\n",
       "      <td>1</td>\n",
       "    </tr>\n",
       "    <tr>\n",
       "      <th>Sirius Black</th>\n",
       "      <td>22</td>\n",
       "      <td>0</td>\n",
       "      <td>0</td>\n",
       "      <td>1</td>\n",
       "      <td>0</td>\n",
       "      <td>0</td>\n",
       "      <td>0</td>\n",
       "      <td>0</td>\n",
       "      <td>3</td>\n",
       "      <td>0</td>\n",
       "      <td>...</td>\n",
       "      <td>13</td>\n",
       "      <td>10</td>\n",
       "      <td>10</td>\n",
       "      <td>33</td>\n",
       "      <td>2</td>\n",
       "      <td>0</td>\n",
       "      <td>2</td>\n",
       "      <td>0</td>\n",
       "      <td>0</td>\n",
       "      <td>1</td>\n",
       "    </tr>\n",
       "    <tr>\n",
       "      <th>Lavender Brown</th>\n",
       "      <td>0</td>\n",
       "      <td>0</td>\n",
       "      <td>0</td>\n",
       "      <td>0</td>\n",
       "      <td>0</td>\n",
       "      <td>0</td>\n",
       "      <td>0</td>\n",
       "      <td>0</td>\n",
       "      <td>1</td>\n",
       "      <td>0</td>\n",
       "      <td>...</td>\n",
       "      <td>1</td>\n",
       "      <td>1</td>\n",
       "      <td>1</td>\n",
       "      <td>3</td>\n",
       "      <td>0</td>\n",
       "      <td>0</td>\n",
       "      <td>0</td>\n",
       "      <td>0</td>\n",
       "      <td>0</td>\n",
       "      <td>0</td>\n",
       "    </tr>\n",
       "    <tr>\n",
       "      <th>Cho Chang</th>\n",
       "      <td>1</td>\n",
       "      <td>1</td>\n",
       "      <td>0</td>\n",
       "      <td>0</td>\n",
       "      <td>0</td>\n",
       "      <td>0</td>\n",
       "      <td>0</td>\n",
       "      <td>0</td>\n",
       "      <td>0</td>\n",
       "      <td>0</td>\n",
       "      <td>...</td>\n",
       "      <td>6</td>\n",
       "      <td>3</td>\n",
       "      <td>3</td>\n",
       "      <td>10</td>\n",
       "      <td>0</td>\n",
       "      <td>0</td>\n",
       "      <td>0</td>\n",
       "      <td>0</td>\n",
       "      <td>0</td>\n",
       "      <td>0</td>\n",
       "    </tr>\n",
       "    <tr>\n",
       "      <th>Vincent Crabbe Sr.</th>\n",
       "      <td>0</td>\n",
       "      <td>0</td>\n",
       "      <td>0</td>\n",
       "      <td>0</td>\n",
       "      <td>0</td>\n",
       "      <td>11</td>\n",
       "      <td>0</td>\n",
       "      <td>0</td>\n",
       "      <td>1</td>\n",
       "      <td>0</td>\n",
       "      <td>...</td>\n",
       "      <td>0</td>\n",
       "      <td>0</td>\n",
       "      <td>1</td>\n",
       "      <td>9</td>\n",
       "      <td>0</td>\n",
       "      <td>0</td>\n",
       "      <td>0</td>\n",
       "      <td>0</td>\n",
       "      <td>0</td>\n",
       "      <td>0</td>\n",
       "    </tr>\n",
       "  </tbody>\n",
       "</table>\n",
       "<p>5 rows × 65 columns</p>\n",
       "</div>"
      ],
      "text/plain": [
       "name                   Regulus Arcturus Black Sirius Black Lavender Brown  \\\n",
       "name                                                                        \n",
       "Regulus Arcturus Black                      0           22              0   \n",
       "Sirius Black                               22            0              0   \n",
       "Lavender Brown                              0            0              0   \n",
       "Cho Chang                                   1            1              0   \n",
       "Vincent Crabbe Sr.                          0            0              0   \n",
       "\n",
       "name                   Cho Chang Vincent Crabbe Sr. Vincent Crabbe  \\\n",
       "name                                                                 \n",
       "Regulus Arcturus Black         1                  0              0   \n",
       "Sirius Black                   1                  0              0   \n",
       "Lavender Brown                 0                  0              0   \n",
       "Cho Chang                      0                  0              0   \n",
       "Vincent Crabbe Sr.             0                  0             11   \n",
       "\n",
       "name                   Bartemius \"Barty\" Crouch Sr.  \\\n",
       "name                                                  \n",
       "Regulus Arcturus Black                            0   \n",
       "Sirius Black                                      0   \n",
       "Lavender Brown                                    0   \n",
       "Cho Chang                                         0   \n",
       "Vincent Crabbe Sr.                                0   \n",
       "\n",
       "name                   Bartemius \"Barty\" Crouch Jr. Fleur Delacour  \\\n",
       "name                                                                 \n",
       "Regulus Arcturus Black                            0              0   \n",
       "Sirius Black                                      0              3   \n",
       "Lavender Brown                                    0              1   \n",
       "Cho Chang                                         0              0   \n",
       "Vincent Crabbe Sr.                                0              1   \n",
       "\n",
       "name                   Cedric Diggory  ... Ginny Weasley Molly Weasley  \\\n",
       "name                                   ...                               \n",
       "Regulus Arcturus Black              0  ...             6             3   \n",
       "Sirius Black                        0  ...            13            10   \n",
       "Lavender Brown                      0  ...             1             1   \n",
       "Cho Chang                           0  ...             6             3   \n",
       "Vincent Crabbe Sr.                  0  ...             0             0   \n",
       "\n",
       "name                   Percy Weasley Ron Weasley Dobby Fluffy Hedwig  \\\n",
       "name                                                                   \n",
       "Regulus Arcturus Black             4          21     0      0      0   \n",
       "Sirius Black                      10          33     2      0      2   \n",
       "Lavender Brown                     1           3     0      0      0   \n",
       "Cho Chang                          3          10     0      0      0   \n",
       "Vincent Crabbe Sr.                 1           9     0      0      0   \n",
       "\n",
       "name                   Moaning Myrtle Aragog Grawp  \n",
       "name                                                \n",
       "Regulus Arcturus Black              0      0     1  \n",
       "Sirius Black                        0      0     1  \n",
       "Lavender Brown                      0      0     0  \n",
       "Cho Chang                           0      0     0  \n",
       "Vincent Crabbe Sr.                  0      0     0  \n",
       "\n",
       "[5 rows x 65 columns]"
      ]
     },
     "execution_count": 11,
     "metadata": {},
     "output_type": "execute_result"
    }
   ],
   "source": [
    "#drop all rows filled with zeros i.e. characters (from csv data file) having no interactions\n",
    "occurence = occurence.loc[(occurence != 0).any(axis=1)]\n",
    "\n",
    "occurence.to_csv('./occurence.csv')\n",
    "occurence.head()"
   ]
  },
  {
   "cell_type": "code",
   "execution_count": 12,
   "id": "bee409ea",
   "metadata": {},
   "outputs": [
    {
     "name": "stdout",
     "output_type": "stream",
     "text": [
      "[('Regulus Arcturus Black', 'Sirius Black', 22), ('Regulus Arcturus Black', 'Cho Chang', 1), ('Regulus Arcturus Black', 'Alberforth Dumbledore', 9)]\n",
      "['Regulus Arcturus Black', 'Sirius Black', 'Lavender Brown']\n"
     ]
    }
   ],
   "source": [
    "#Here we need to set the nodes and edges of the graph to create it\n",
    "\n",
    "#list of all characters appearing in the text to set the nodes of the graph\n",
    "nod=[]\n",
    "for i in occurence.index:\n",
    "    nod.append(str(i).strip(\"/(),'\"))\n",
    "\n",
    "#set the edges of the graph\n",
    "edg=[]\n",
    "for i in range(len(occurence)):\n",
    "    for j in range(len(occurence)):\n",
    "        if occurence.iloc[i,j] != 0:\n",
    "            edg.append( (str(occurence.index[i]).strip(\"/(),'\"),\n",
    "                         str(occurence.index[j]).strip(\"/(),'\"),\n",
    "                        occurence.iloc[i,j]) )\n",
    "print(edg[:3])\n",
    "print(nod[:3])\n"
   ]
  },
  {
   "cell_type": "code",
   "execution_count": 13,
   "id": "b509c8d5",
   "metadata": {},
   "outputs": [
    {
     "data": {
      "text/plain": [
       "{'Harry Potter': 100.0,\n",
       " 'Ron Weasley': 72.21951219512195,\n",
       " 'Hermione Granger': 64.58536585365854,\n",
       " 'Ginny Weasley': 34.536585365853654,\n",
       " 'Bill Weasley': 34.0,\n",
       " 'Albus Dumbledore': 33.41463414634146,\n",
       " 'Fred Weasley': 33.09756097560976,\n",
       " 'Lord Voldemort': 32.63414634146341,\n",
       " 'Alberforth Dumbledore': 32.31707317073171,\n",
       " 'George Weasley': 31.902439024390244}"
      ]
     },
     "execution_count": 13,
     "metadata": {},
     "output_type": "execute_result"
    },
    {
     "data": {
      "text/plain": [
       "<Figure size 432x288 with 0 Axes>"
      ]
     },
     "metadata": {},
     "output_type": "display_data"
    }
   ],
   "source": [
    "plt.figure()\n",
    "G=nx.DiGraph()\n",
    "G.add_nodes_from(nod)\n",
    "G.add_weighted_edges_from(edg)\n",
    "weight=nx.get_edge_attributes(G,'weight')\n",
    "threshold=90\n",
    "\n",
    "#customed width of edges\n",
    "def customed_width(most_popu, most_popu_weight):\n",
    "    \n",
    "\n",
    "\n",
    "#this is to set the size of the nodes according to the number of occurence of the character in the text\n",
    "most_popu=occurence.sum(axis=1).sort_values(ascending=False)\n",
    "harry=most_popu[0]\n",
    "most_popu=(most_popu/harry)*100\n",
    "\n",
    "#if value of most_popu < than mean of most_popu then set value to mean of most_popu\n",
    "mean_most_popu=most_popu.mean() \n",
    "\n",
    "for i in range(len(most_popu)):\n",
    "    if most_popu[i] < mean_most_popu:\n",
    "        most_popu[i] = mean_most_popu\n",
    "\n",
    "# create dictionary for the ten most popular characters\n",
    "most_popu_10 = most_popu.head(10)\n",
    "val = most_popu_10.values  #get values\n",
    "\n",
    "lab_10_most_popu = []     #get name label as strings for most_popu_10 (type=pandas.Series)\n",
    "for name in most_popu_10.index:\n",
    "    name = str(name).strip(\"()',\")\n",
    "    lab_10_most_popu.append(name)\n",
    "\n",
    "dict_10 = {lab_10_most_popu [i] : val[i] for i in range(len(val))}\n",
    "dict_10"
   ]
  },
  {
   "cell_type": "code",
   "execution_count": 106,
   "id": "169eb841",
   "metadata": {},
   "outputs": [
    {
     "name": "stderr",
     "output_type": "stream",
     "text": [
      "C:\\Users\\PC\\AppData\\Local\\Temp\\ipykernel_13012\\1086551406.py:4: DeprecationWarning: In future, it will be an error for 'np.bool_' scalars to be interpreted as an index\n",
      "  custom_width = [max((w/10000,w/200)[w > 30], 0.03) for w in edges_weight]\n"
     ]
    },
    {
     "data": {
      "image/png": "[encoded data removed]",
      "text/plain": [
       "<Figure size 432x288 with 1 Axes>"
      ]
     },
     "metadata": {},
     "output_type": "display_data"
    }
   ],
   "source": [
    "#create a customed width of edges\n",
    "list_edges = list(G.edges())\n",
    "edges_weight = np.array([G[u][v].get('weight', 1) for u, v in list_edges])\n",
    "custom_width = [max((w/10000,w/200)[w > 30], 0.03) for w in edges_weight]\n",
    "\n",
    "#get node size and store them in an array\n",
    "list_nodes = list(G.nodes())\n",
    "nodes_size = np.array([len(list(G.neighbors(node))) for node in list_nodes])\n",
    "\n",
    "#let's build the graph\n",
    "pos=nx.layout.circular_layout(G)\n",
    "\n",
    "#draw the nodes proportional to the number of occurence\n",
    "for count, nod in enumerate(G.nodes()):\n",
    "    nod_lab = ( \"\", f\"{nod}\")\n",
    "    nx.draw_networkx_nodes( \n",
    "        G, pos, nodelist=[nod], node_size=nodes_size[count],\n",
    "        node_color='#FFCA3A' if nod in dict_10.keys() else 'seagreen', \n",
    "        label = nod_lab[1] if nod in dict_10.keys() else nod_lab[0]\n",
    "        )\n",
    "\n",
    "#draw the edges with the weight of the edge proportional to the number of occurence\n",
    "nx.draw_networkx_edges(G, pos, edgelist=edg, width=custom_width, edge_color=\"#6A4C93\", alpha=0.8 , arrows=False)\n",
    "\n",
    "#set legend for 10 most popular characters\n",
    "nx.draw_networkx_labels(G, pos, labels={k:k for k in dict_10.keys()}, font_size=5)\n",
    "plt.legend(dict_10.keys(),loc='upper left',prop={'size': 5.3}, labelcolor='black', title='Top 10 characters with \\n with most neighbors', title_fontsize=\"xx-small\")\n",
    "ax = plt.gca()\n",
    "leg = ax.get_legend()\n",
    "#set color of nodes in the legend\n",
    "for i in range(0,10):   \n",
    "    leg.legendHandles[i].set_color(\"#FFCA3A\")\n",
    "       \n",
    "plt.xlim(-2.1,2.1)\n",
    "\n",
    "plt.savefig('./network', dpi=500)\n",
    "plt.show()\n"
   ]
  },
  {
   "cell_type": "markdown",
   "id": "d3c744ac",
   "metadata": {},
   "source": [
    "Commentaires:\n",
    "- On arrive à qq chose de pas mal mais ce serait cool d'avoir le nombre d'occurence dans la légende\n",
    "- pour l'instant j'affiche pas la légende pcq elle n'apporte rien (enlever le # pour voir)\n",
    "- network pour tout le livre mais bof lisible, on testerai bien pour 1 chapitre uniquement ? \n"
   ]
  },
  {
   "cell_type": "markdown",
   "id": "8f858e04",
   "metadata": {},
   "source": []
  }
 ],
 "metadata": {
  "kernelspec": {
   "display_name": "Python 3.10.7 64-bit",
   "language": "python",
   "name": "python3"
  },
  "language_info": {
   "codemirror_mode": {
    "name": "ipython",
    "version": 3
   },
   "file_extension": ".py",
   "mimetype": "text/x-python",
   "name": "python",
   "nbconvert_exporter": "python",
   "pygments_lexer": "ipython3",
   "version": "3.10.7"
  },
  "vscode": {
   "interpreter": {
    "hash": "60e425e5960aae7ad51c554c9df4211e9b19b02bac9d4fcd8e0f77c7051f1c27"
   }
  }
 },
 "nbformat": 4,
 "nbformat_minor": 5
}
